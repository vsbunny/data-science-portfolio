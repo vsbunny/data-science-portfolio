{
 "cells": [
  {
   "cell_type": "markdown",
   "id": "700d6bc9-d462-43e5-baff-16c685ce6124",
   "metadata": {},
   "source": [
    "# Testing Efficiency of Vectorization"
   ]
  },
  {
   "cell_type": "code",
   "execution_count": 1,
   "id": "3e05bde8-c28c-4efc-acc2-a1be87080804",
   "metadata": {
    "tags": []
   },
   "outputs": [],
   "source": [
    "import numpy as np\n",
    "import time "
   ]
  },
  {
   "cell_type": "code",
   "execution_count": 13,
   "id": "d60d4eee-da87-4a05-a79e-082f4b10ecef",
   "metadata": {
    "tags": []
   },
   "outputs": [
    {
     "name": "stdout",
     "output_type": "stream",
     "text": [
      "np.zeros(4) :   a = [0. 0. 0. 0.], a shape = (4,), a data type = float64\n",
      "np.zeros(4,) :   b = [0. 0. 0. 0.], b shape = (4,), b data type = float64\n",
      "np.random.random_sample(4) :   c = [0.0051843  0.01674201 0.5146632  0.94832323], c shape = (4,), c data type = float64\n"
     ]
    }
   ],
   "source": [
    "# Vector Creation\n",
    "a = np.zeros(4); print(f\"np.zeros(4) :   a = {a}, a shape = {a.shape}, a data type = {a.dtype}\")\n",
    "b = np.zeros(4,); print(f\"np.zeros(4,) :   b = {b}, b shape = {b.shape}, b data type = {b.dtype}\")\n",
    "c = np.random.random_sample(4); print(f\"np.random.random_sample(4) :   c = {c}, c shape = {c.shape}, c data type = {c.dtype}\")"
   ]
  },
  {
   "cell_type": "code",
   "execution_count": 37,
   "id": "b08d52c1-d902-4e73-a4c6-49b8ad084bb3",
   "metadata": {
    "tags": []
   },
   "outputs": [],
   "source": [
    "a = np.array([1,-2,4,5])\n",
    "b = np.array ([2,4,4,9])\n",
    "c_a = np.array([3,3,3-3])"
   ]
  },
  {
   "cell_type": "code",
   "execution_count": 39,
   "id": "4b3a652e-1a0e-4914-9a90-cc135c09f9d7",
   "metadata": {
    "tags": []
   },
   "outputs": [
    {
     "name": "stdout",
     "output_type": "stream",
     "text": [
      "my_dot(a,b) = 55\n"
     ]
    }
   ],
   "source": [
    "# Dot Product with a for loop\n",
    "\n",
    "def my_dot (a, b):\n",
    "    \"\"\"\n",
    "   Compute the dot product of two vectors\n",
    " \n",
    "    Args:\n",
    "      a (ndarray (n,)):  input vector \n",
    "      b (ndarray (n,)):  input vector with same rank as a\n",
    "    \n",
    "    Returns:\n",
    "      x (scalar): \n",
    "    \"\"\"\n",
    "    x = 0\n",
    "    for i in range(a.shape[0]):\n",
    "        x = x + a[i] * b[i]\n",
    "    return x\n",
    "print(f\"my_dot(a,b) = {my_dot(a,b)}\")"
   ]
  },
  {
   "cell_type": "code",
   "execution_count": 41,
   "id": "27dc17b2-b081-413c-9040-e0774f1b6f73",
   "metadata": {
    "tags": []
   },
   "outputs": [
    {
     "name": "stdout",
     "output_type": "stream",
     "text": [
      "dot_product(a,b) = 55\n"
     ]
    }
   ],
   "source": [
    "# Dot product directly from NumPy\n",
    "dot_product = np.dot(a,b)\n",
    "print (f\"dot_product(a,b) = {dot_product}\")"
   ]
  },
  {
   "cell_type": "code",
   "execution_count": 43,
   "id": "5bdcffca-0c30-4624-bbff-17c7979dd024",
   "metadata": {
    "tags": []
   },
   "outputs": [
    {
     "name": "stdout",
     "output_type": "stream",
     "text": [
      "np.dot(a, b) =  25000669.8073\n",
      "Vectorized version duration: 665.1061 ms \n",
      "my_dot(a,b) =  25000669.8073\n",
      "For loop version duration: 35515.0571 ms \n"
     ]
    }
   ],
   "source": [
    "# Test efficiency of both methods\n",
    "# Let's test this with very large arrays\n",
    "# Create random arrays\n",
    "np.random.seed(1)\n",
    "a = np.random.rand(100000000)\n",
    "b = np.random.rand(100000000)\n",
    "\n",
    "# Vector product directly from Numpy\n",
    "tic = time.time() # Capture the start time of the operation\n",
    "c = np.dot(a,b)\n",
    "toc = time.time() # Capture the end time of the operation\n",
    "print(f\"np.dot(a, b) =  {c:.4f}\")\n",
    "print(f\"Vectorized version duration: {1000*(toc-tic):.4f} ms \")\n",
    "\n",
    "# For Loop for a dot product\n",
    "\n",
    "tic = time.time() # Capture the start time of the operation\n",
    "c_loop = my_dot(a,b) # Call the dot product loop\n",
    "toc = time.time() # Capture the end time of the operation\n",
    "print(f\"my_dot(a,b) =  {c_loop:.4f}\")\n",
    "print(f\"For loop version duration: {1000*(toc-tic):.4f} ms \")\n",
    "\n",
    "del(a);del(b)  #remove these big arrays from memory"
   ]
  },
  {
   "cell_type": "markdown",
   "id": "478191a9-3345-4692-a7fa-64eed8328cd3",
   "metadata": {},
   "source": [
    "#### Why Vectorization is Faster\n",
    "NumPy's vectorized operations are significantly more efficient than standard Python for loops because they're implemented in highly optimized, low-level C/Fortran code. This means they run directly on the computer's hardware without the overhead of the Python interpreter for each element. They also leverage advanced CPU features like SIMD (Single Instruction, Multiple Data), allowing the processor to perform the same operation on multiple data points simultaneously. Furthermore, NumPy arrays store data contiguously in memory, which drastically improves cache efficiency by allowing the CPU to load large blocks of relevant data at once, leading to dramatically faster computations."
   ]
  }
 ],
 "metadata": {
  "kernelspec": {
   "display_name": "Python 3 (ipykernel)",
   "language": "python",
   "name": "python3"
  },
  "language_info": {
   "codemirror_mode": {
    "name": "ipython",
    "version": 3
   },
   "file_extension": ".py",
   "mimetype": "text/x-python",
   "name": "python",
   "nbconvert_exporter": "python",
   "pygments_lexer": "ipython3",
   "version": "3.11.7"
  }
 },
 "nbformat": 4,
 "nbformat_minor": 5
}
